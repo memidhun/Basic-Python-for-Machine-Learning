{
  "nbformat": 4,
  "nbformat_minor": 0,
  "metadata": {
    "colab": {
      "provenance": [],
      "authorship_tag": "ABX9TyO2fiuka5p6qvoSwb5MehyC",
      "include_colab_link": true
    },
    "kernelspec": {
      "name": "python3",
      "display_name": "Python 3"
    },
    "language_info": {
      "name": "python"
    }
  },
  "cells": [
    {
      "cell_type": "markdown",
      "metadata": {
        "id": "view-in-github",
        "colab_type": "text"
      },
      "source": [
        "<a href=\"https://colab.research.google.com/github/memidhun/Basic-Python-for-Machine-Learning/blob/main/Basicpython.ipynb\" target=\"_parent\"><img src=\"https://colab.research.google.com/assets/colab-badge.svg\" alt=\"Open In Colab\"/></a>"
      ]
    },
    {
      "cell_type": "markdown",
      "source": [
        "#Introduction to `Python`\n",
        "First program:Display a Hello\n"
      ],
      "metadata": {
        "id": "qBPXg4WS7pfz"
      }
    },
    {
      "cell_type": "code",
      "source": [
        "print(\"Hello World\")"
      ],
      "metadata": {
        "colab": {
          "base_uri": "https://localhost:8080/"
        },
        "id": "BaMIp9ZR75uB",
        "outputId": "b4266e4e-9518-470b-825f-59579ff66ed2"
      },
      "execution_count": null,
      "outputs": [
        {
          "output_type": "stream",
          "name": "stdout",
          "text": [
            "Hello World\n"
          ]
        }
      ]
    },
    {
      "cell_type": "markdown",
      "source": [
        ">Program to assign an integer and display it"
      ],
      "metadata": {
        "id": "7Xd3AiKc9OYz"
      }
    },
    {
      "cell_type": "code",
      "source": [
        "a=10\n",
        "print(\"The value of a is:\",a)"
      ],
      "metadata": {
        "colab": {
          "base_uri": "https://localhost:8080/"
        },
        "id": "k7JTZgjU8qG7",
        "outputId": "1e4cd6bd-48b3-4fcd-935f-e324d52b05f0"
      },
      "execution_count": null,
      "outputs": [
        {
          "output_type": "stream",
          "name": "stdout",
          "text": [
            "The value of a is: 10\n"
          ]
        }
      ]
    },
    {
      "cell_type": "markdown",
      "source": [
        ">Program to find `Sum` of Numbers"
      ],
      "metadata": {
        "id": "o3eTpJkg95Mb"
      }
    },
    {
      "cell_type": "code",
      "source": [
        "a=10\n",
        "b=20\n",
        "print(\"The sum is\",a+b)"
      ],
      "metadata": {
        "colab": {
          "base_uri": "https://localhost:8080/"
        },
        "id": "s5-8MhTz9lEb",
        "outputId": "45a57a79-b561-4719-f564-075975019eac"
      },
      "execution_count": null,
      "outputs": [
        {
          "output_type": "stream",
          "name": "stdout",
          "text": [
            "The sum is 30\n"
          ]
        }
      ]
    },
    {
      "cell_type": "code",
      "source": [
        "a=int(input(\"Enter A :\"))\n",
        "b=int(input(\"Enter B:\"))\n",
        "sum=a+b\n",
        "print(\"The sum of A+B is:\",sum)\n"
      ],
      "metadata": {
        "colab": {
          "base_uri": "https://localhost:8080/"
        },
        "id": "cX-EC10g-Uxc",
        "outputId": "66bd461e-c653-4d96-b69c-cf15b0344a47"
      },
      "execution_count": null,
      "outputs": [
        {
          "output_type": "stream",
          "name": "stdout",
          "text": [
            "Enter A :10\n",
            "Enter B:20\n",
            "The sum of A+B is: 30\n"
          ]
        }
      ]
    }
  ]
}